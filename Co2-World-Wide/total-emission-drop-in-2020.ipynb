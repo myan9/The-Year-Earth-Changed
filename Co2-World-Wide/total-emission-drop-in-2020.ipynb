{
 "cells": [
  {
   "cell_type": "markdown",
   "metadata": {},
   "source": [
    "## Import Dataset and Prepare Data"
   ]
  },
  {
   "cell_type": "code",
   "execution_count": 1,
   "metadata": {},
   "outputs": [
    {
     "name": "stdout",
     "output_type": "stream",
     "text": [
      "<class 'pandas.core.frame.DataFrame'>\n",
      "RangeIndex: 195 entries, 0 to 194\n",
      "Data columns (total 31 columns):\n",
      " #   Column          Non-Null Count  Dtype  \n",
      "---  ------          --------------  -----  \n",
      " 0   Country/Region  195 non-null    object \n",
      " 1   unit            195 non-null    object \n",
      " 2   1990            193 non-null    object \n",
      " 3   1991            193 non-null    object \n",
      " 4   1992            193 non-null    float64\n",
      " 5   1993            193 non-null    float64\n",
      " 6   1994            193 non-null    float64\n",
      " 7   1995            193 non-null    float64\n",
      " 8   1996            193 non-null    float64\n",
      " 9   1997            193 non-null    float64\n",
      " 10  1998            193 non-null    float64\n",
      " 11  1999            193 non-null    float64\n",
      " 12  2000            193 non-null    float64\n",
      " 13  2001            193 non-null    float64\n",
      " 14  2002            193 non-null    float64\n",
      " 15  2003            193 non-null    float64\n",
      " 16  2004            193 non-null    float64\n",
      " 17  2005            193 non-null    float64\n",
      " 18  2006            193 non-null    float64\n",
      " 19  2007            193 non-null    float64\n",
      " 20  2008            193 non-null    float64\n",
      " 21  2009            193 non-null    float64\n",
      " 22  2010            193 non-null    float64\n",
      " 23  2011            193 non-null    float64\n",
      " 24  2012            193 non-null    float64\n",
      " 25  2013            193 non-null    float64\n",
      " 26  2014            193 non-null    float64\n",
      " 27  2015            193 non-null    float64\n",
      " 28  2016            193 non-null    float64\n",
      " 29  2017            193 non-null    float64\n",
      " 30  2018            193 non-null    float64\n",
      "dtypes: float64(27), object(4)\n",
      "memory usage: 47.4+ KB\n"
     ]
    }
   ],
   "source": [
    "import pandas as pd\n",
    "import matplotlib.pyplot as plt\n",
    "import seaborn as sns\n",
    "\n",
    "data_before_18 = pd.read_csv('./before-2018-yearly-emission.csv')\n",
    "data_19_20 = pd.read_csv('./daily-co2-per-contry-2019-2021.csv')\n",
    "data_before_18.info()\n"
   ]
  },
  {
   "cell_type": "code",
   "execution_count": 2,
   "metadata": {},
   "outputs": [],
   "source": [
    "data_before_18 = data_before_18.rename(columns = {\"Country/Region\": \"country\"})\n",
    "data_before_18['country'] = data_before_18['country'].str.replace('United States', 'US')\n",
    "data_before_18['country'] = data_before_18['country'].str.replace('United Kingdom', 'UK')\n",
    "\n",
    "areas_19_20 = [\"China\", \"US\", \"India\"]\n",
    "areas_before_18 = [\"China\", \"US\", \"India\"]\n",
    "\n",
    "data_before_18 = data_before_18[data_before_18[\"country\"].isin(areas_19_20)]\n",
    "data_19_20 = data_19_20[data_19_20[\"country\"].isin(areas_before_18)]\n",
    "\n",
    "# convert date to Date object\n",
    "data_19_20['date'] = pd.to_datetime(data_19_20['date'])\n"
   ]
  },
  {
   "cell_type": "code",
   "execution_count": 3,
   "metadata": {},
   "outputs": [
    {
     "data": {
      "text/html": [
       "<div>\n",
       "<style scoped>\n",
       "    .dataframe tbody tr th:only-of-type {\n",
       "        vertical-align: middle;\n",
       "    }\n",
       "\n",
       "    .dataframe tbody tr th {\n",
       "        vertical-align: top;\n",
       "    }\n",
       "\n",
       "    .dataframe thead th {\n",
       "        text-align: right;\n",
       "    }\n",
       "</style>\n",
       "<table border=\"1\" class=\"dataframe\">\n",
       "  <thead>\n",
       "    <tr style=\"text-align: right;\">\n",
       "      <th></th>\n",
       "      <th>country</th>\n",
       "      <th>2014</th>\n",
       "      <th>2015</th>\n",
       "      <th>2016</th>\n",
       "      <th>2017</th>\n",
       "      <th>2018</th>\n",
       "      <th>2019</th>\n",
       "      <th>2020</th>\n",
       "    </tr>\n",
       "  </thead>\n",
       "  <tbody>\n",
       "    <tr>\n",
       "      <th>0</th>\n",
       "      <td>China</td>\n",
       "      <td>9184.77</td>\n",
       "      <td>9120.27</td>\n",
       "      <td>9164.21</td>\n",
       "      <td>9367.67</td>\n",
       "      <td>9663.36</td>\n",
       "      <td>10492.85</td>\n",
       "      <td>10563.36</td>\n",
       "    </tr>\n",
       "    <tr>\n",
       "      <th>1</th>\n",
       "      <td>US</td>\n",
       "      <td>4683.35</td>\n",
       "      <td>4563.52</td>\n",
       "      <td>4656.84</td>\n",
       "      <td>4581.90</td>\n",
       "      <td>4749.57</td>\n",
       "      <td>5111.43</td>\n",
       "      <td>4598.31</td>\n",
       "    </tr>\n",
       "    <tr>\n",
       "      <th>2</th>\n",
       "      <td>India</td>\n",
       "      <td>2072.03</td>\n",
       "      <td>2085.38</td>\n",
       "      <td>2149.01</td>\n",
       "      <td>2267.16</td>\n",
       "      <td>2400.25</td>\n",
       "      <td>2471.63</td>\n",
       "      <td>2269.83</td>\n",
       "    </tr>\n",
       "  </tbody>\n",
       "</table>\n",
       "</div>"
      ],
      "text/plain": [
       "  country     2014     2015     2016     2017     2018      2019      2020\n",
       "0   China  9184.77  9120.27  9164.21  9367.67  9663.36  10492.85  10563.36\n",
       "1      US  4683.35  4563.52  4656.84  4581.90  4749.57   5111.43   4598.31\n",
       "2   India  2072.03  2085.38  2149.01  2267.16  2400.25   2471.63   2269.83"
      ]
     },
     "execution_count": 3,
     "metadata": {},
     "output_type": "execute_result"
    }
   ],
   "source": [
    "data_compare = {\"country\": [], \"2014\": [], \"2015\": [],\"2016\": [],\"2017\": [],\"2018\": [], \"2019\": [], \"2020\": []}\n",
    "\n",
    "for area in data_before_18['country'].unique():\n",
    "    data_compare[\"country\"].append(area)\n",
    "    data_compare[\"2014\"].append(data_before_18.loc[(data_before_18['country'] == area), \"2014\"].values[0])\n",
    "    data_compare[\"2015\"].append(data_before_18.loc[(data_before_18['country'] == area), \"2015\"].values[0])\n",
    "    data_compare[\"2016\"].append(data_before_18.loc[(data_before_18['country'] == area), \"2016\"].values[0])\n",
    "    data_compare[\"2017\"].append(data_before_18.loc[(data_before_18['country'] == area), \"2017\"].values[0])\n",
    "    data_compare[\"2018\"].append(data_before_18.loc[(data_before_18['country'] == area), \"2018\"].values[0])\n",
    "    data_compare[\"2019\"].append(\n",
    "        round(data_19_20[(data_19_20[\"country\"] == area) & (data_19_20[\"date\"] >= \"2019-01-01\") & (data_19_20[\"date\"] < \"2020-01-01\")][\"value\"].sum(), 2))\n",
    "    data_compare[\"2020\"].append(\n",
    "        round(data_19_20[(data_19_20[\"country\"] == area) & (data_19_20[\"date\"] >= \"2020-01-01\") & (data_19_20[\"date\"] <= \"2020-12-31\")][\"value\"].sum(), 2))\n",
    "    \n",
    "    \n",
    "compre_df = pd.DataFrame(data_compare)\n",
    "compre_df\n"
   ]
  },
  {
   "cell_type": "markdown",
   "metadata": {},
   "source": [
    "## Observation: We saw a never happened decline in total emission of co2 in 2020 (except China)"
   ]
  },
  {
   "cell_type": "code",
   "execution_count": 4,
   "metadata": {},
   "outputs": [
    {
     "data": {
      "text/html": [
       "<div>\n",
       "<style scoped>\n",
       "    .dataframe tbody tr th:only-of-type {\n",
       "        vertical-align: middle;\n",
       "    }\n",
       "\n",
       "    .dataframe tbody tr th {\n",
       "        vertical-align: top;\n",
       "    }\n",
       "\n",
       "    .dataframe thead th {\n",
       "        text-align: right;\n",
       "    }\n",
       "</style>\n",
       "<table border=\"1\" class=\"dataframe\">\n",
       "  <thead>\n",
       "    <tr style=\"text-align: right;\">\n",
       "      <th>country</th>\n",
       "      <th>China</th>\n",
       "      <th>US</th>\n",
       "      <th>India</th>\n",
       "    </tr>\n",
       "  </thead>\n",
       "  <tbody>\n",
       "    <tr>\n",
       "      <th>2014</th>\n",
       "      <td>9184.77</td>\n",
       "      <td>4683.35</td>\n",
       "      <td>2072.03</td>\n",
       "    </tr>\n",
       "    <tr>\n",
       "      <th>2015</th>\n",
       "      <td>9120.27</td>\n",
       "      <td>4563.52</td>\n",
       "      <td>2085.38</td>\n",
       "    </tr>\n",
       "    <tr>\n",
       "      <th>2016</th>\n",
       "      <td>9164.21</td>\n",
       "      <td>4656.84</td>\n",
       "      <td>2149.01</td>\n",
       "    </tr>\n",
       "    <tr>\n",
       "      <th>2017</th>\n",
       "      <td>9367.67</td>\n",
       "      <td>4581.9</td>\n",
       "      <td>2267.16</td>\n",
       "    </tr>\n",
       "    <tr>\n",
       "      <th>2018</th>\n",
       "      <td>9663.36</td>\n",
       "      <td>4749.57</td>\n",
       "      <td>2400.25</td>\n",
       "    </tr>\n",
       "    <tr>\n",
       "      <th>2019</th>\n",
       "      <td>10492.85</td>\n",
       "      <td>5111.43</td>\n",
       "      <td>2471.63</td>\n",
       "    </tr>\n",
       "    <tr>\n",
       "      <th>2020</th>\n",
       "      <td>10563.36</td>\n",
       "      <td>4598.31</td>\n",
       "      <td>2269.83</td>\n",
       "    </tr>\n",
       "  </tbody>\n",
       "</table>\n",
       "</div>"
      ],
      "text/plain": [
       "country     China       US    India\n",
       "2014      9184.77  4683.35  2072.03\n",
       "2015      9120.27  4563.52  2085.38\n",
       "2016      9164.21  4656.84  2149.01\n",
       "2017      9367.67   4581.9  2267.16\n",
       "2018      9663.36  4749.57  2400.25\n",
       "2019     10492.85  5111.43  2471.63\n",
       "2020     10563.36  4598.31  2269.83"
      ]
     },
     "execution_count": 4,
     "metadata": {},
     "output_type": "execute_result"
    }
   ],
   "source": [
    "compre_df_t = compre_df.T\n",
    "compre_df_t.columns = compre_df_t.iloc[0]\n",
    "compre_df_t = compre_df_t[1:]\n",
    "compre_df_t\n"
   ]
  },
  {
   "cell_type": "code",
   "execution_count": 8,
   "metadata": {},
   "outputs": [
    {
     "data": {
      "text/plain": [
       "[Text(0, 0.5, '')]"
      ]
     },
     "execution_count": 8,
     "metadata": {},
     "output_type": "execute_result"
    },
    {
     "data": {
      "image/png": "[encoded data removed]",
      "text/plain": [
       "<Figure size 1440x360 with 3 Axes>"
      ]
     },
     "metadata": {
      "needs_background": "light"
     },
     "output_type": "display_data"
    }
   ],
   "source": [
    "fig, axes = plt.subplots(1, 3, figsize=(20, 5))\n",
    "sns.lineplot(ax=axes[0], data=compre_df_t.loc[:, [\"China\"]]).set(ylabel=None)\n",
    "sns.lineplot(ax=axes[1], data=compre_df_t.loc[:, [\"US\"]]).set(ylabel=None)\n",
    "sns.lineplot(ax=axes[2], data=compre_df_t.loc[:, [\"India\"]]).set(ylabel=None)\n"
   ]
  }
 ],
 "metadata": {
  "interpreter": {
   "hash": "aee8b7b246df8f9039afb4144a1f6fd8d2ca17a180786b69acc140d282b71a49"
  },
  "kernelspec": {
   "display_name": "Python 3.9.9 64-bit",
   "language": "python",
   "name": "python3"
  },
  "language_info": {
   "codemirror_mode": {
    "name": "ipython",
    "version": 3
   },
   "file_extension": ".py",
   "mimetype": "text/x-python",
   "name": "python",
   "nbconvert_exporter": "python",
   "pygments_lexer": "ipython3",
   "version": "3.9.9"
  },
  "orig_nbformat": 4
 },
 "nbformat": 4,
 "nbformat_minor": 2
}
