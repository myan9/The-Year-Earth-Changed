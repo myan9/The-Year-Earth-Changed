{
 "cells": [
  {
   "cell_type": "code",
   "execution_count": 3,
   "metadata": {},
   "outputs": [
    {
     "data": {
      "text/html": [
       "<div>\n",
       "<style scoped>\n",
       "    .dataframe tbody tr th:only-of-type {\n",
       "        vertical-align: middle;\n",
       "    }\n",
       "\n",
       "    .dataframe tbody tr th {\n",
       "        vertical-align: top;\n",
       "    }\n",
       "\n",
       "    .dataframe thead th {\n",
       "        text-align: right;\n",
       "    }\n",
       "</style>\n",
       "<table border=\"1\" class=\"dataframe\">\n",
       "  <thead>\n",
       "    <tr style=\"text-align: right;\">\n",
       "      <th></th>\n",
       "      <th>country</th>\n",
       "      <th>date</th>\n",
       "      <th>sector</th>\n",
       "      <th>value</th>\n",
       "      <th>timestamp</th>\n",
       "    </tr>\n",
       "  </thead>\n",
       "  <tbody>\n",
       "    <tr>\n",
       "      <th>0</th>\n",
       "      <td>Brazil</td>\n",
       "      <td>01/01/2019</td>\n",
       "      <td>Power</td>\n",
       "      <td>0.108768</td>\n",
       "      <td>1546272000</td>\n",
       "    </tr>\n",
       "    <tr>\n",
       "      <th>1</th>\n",
       "      <td>China</td>\n",
       "      <td>01/01/2019</td>\n",
       "      <td>Power</td>\n",
       "      <td>14.251000</td>\n",
       "      <td>1546272000</td>\n",
       "    </tr>\n",
       "    <tr>\n",
       "      <th>2</th>\n",
       "      <td>EU27 &amp; UK</td>\n",
       "      <td>01/01/2019</td>\n",
       "      <td>Power</td>\n",
       "      <td>1.882070</td>\n",
       "      <td>1546272000</td>\n",
       "    </tr>\n",
       "    <tr>\n",
       "      <th>3</th>\n",
       "      <td>France</td>\n",
       "      <td>01/01/2019</td>\n",
       "      <td>Power</td>\n",
       "      <td>0.053858</td>\n",
       "      <td>1546272000</td>\n",
       "    </tr>\n",
       "    <tr>\n",
       "      <th>4</th>\n",
       "      <td>Germany</td>\n",
       "      <td>01/01/2019</td>\n",
       "      <td>Power</td>\n",
       "      <td>0.378323</td>\n",
       "      <td>1546272000</td>\n",
       "    </tr>\n",
       "    <tr>\n",
       "      <th>5</th>\n",
       "      <td>India</td>\n",
       "      <td>01/01/2019</td>\n",
       "      <td>Power</td>\n",
       "      <td>3.349630</td>\n",
       "      <td>1546272000</td>\n",
       "    </tr>\n",
       "    <tr>\n",
       "      <th>6</th>\n",
       "      <td>Italy</td>\n",
       "      <td>01/01/2019</td>\n",
       "      <td>Power</td>\n",
       "      <td>0.160676</td>\n",
       "      <td>1546272000</td>\n",
       "    </tr>\n",
       "    <tr>\n",
       "      <th>7</th>\n",
       "      <td>Japan</td>\n",
       "      <td>01/01/2019</td>\n",
       "      <td>Power</td>\n",
       "      <td>1.295800</td>\n",
       "      <td>1546272000</td>\n",
       "    </tr>\n",
       "    <tr>\n",
       "      <th>8</th>\n",
       "      <td>ROW</td>\n",
       "      <td>01/01/2019</td>\n",
       "      <td>Power</td>\n",
       "      <td>9.171060</td>\n",
       "      <td>1546272000</td>\n",
       "    </tr>\n",
       "    <tr>\n",
       "      <th>9</th>\n",
       "      <td>Russia</td>\n",
       "      <td>01/01/2019</td>\n",
       "      <td>Power</td>\n",
       "      <td>2.404910</td>\n",
       "      <td>1546272000</td>\n",
       "    </tr>\n",
       "    <tr>\n",
       "      <th>10</th>\n",
       "      <td>Spain</td>\n",
       "      <td>01/01/2019</td>\n",
       "      <td>Power</td>\n",
       "      <td>0.125314</td>\n",
       "      <td>1546272000</td>\n",
       "    </tr>\n",
       "    <tr>\n",
       "      <th>11</th>\n",
       "      <td>UK</td>\n",
       "      <td>01/01/2019</td>\n",
       "      <td>Power</td>\n",
       "      <td>0.178639</td>\n",
       "      <td>1546272000</td>\n",
       "    </tr>\n",
       "    <tr>\n",
       "      <th>12</th>\n",
       "      <td>US</td>\n",
       "      <td>01/01/2019</td>\n",
       "      <td>Power</td>\n",
       "      <td>3.968920</td>\n",
       "      <td>1546272000</td>\n",
       "    </tr>\n",
       "  </tbody>\n",
       "</table>\n",
       "</div>"
      ],
      "text/plain": [
       "      country        date sector      value   timestamp\n",
       "0      Brazil  01/01/2019  Power   0.108768  1546272000\n",
       "1       China  01/01/2019  Power  14.251000  1546272000\n",
       "2   EU27 & UK  01/01/2019  Power   1.882070  1546272000\n",
       "3      France  01/01/2019  Power   0.053858  1546272000\n",
       "4     Germany  01/01/2019  Power   0.378323  1546272000\n",
       "5       India  01/01/2019  Power   3.349630  1546272000\n",
       "6       Italy  01/01/2019  Power   0.160676  1546272000\n",
       "7       Japan  01/01/2019  Power   1.295800  1546272000\n",
       "8         ROW  01/01/2019  Power   9.171060  1546272000\n",
       "9      Russia  01/01/2019  Power   2.404910  1546272000\n",
       "10      Spain  01/01/2019  Power   0.125314  1546272000\n",
       "11         UK  01/01/2019  Power   0.178639  1546272000\n",
       "12         US  01/01/2019  Power   3.968920  1546272000"
      ]
     },
     "execution_count": 3,
     "metadata": {},
     "output_type": "execute_result"
    }
   ],
   "source": [
    "import pandas as pd\n",
    "data = pd.read_csv('Data/Co2/CarbonEmissionDaily/daily-co2-per-contry-2019-2021.csv')\n",
    "data.head(13)"
   ]
  },
  {
   "cell_type": "markdown",
   "metadata": {},
   "source": [
    "Find distinct contries"
   ]
  },
  {
   "cell_type": "code",
   "execution_count": 37,
   "metadata": {},
   "outputs": [
    {
     "name": "stdout",
     "output_type": "stream",
     "text": [
      "['Brazil' 'China' 'EU27 & UK' 'France' 'Germany' 'India' 'Italy' 'Japan'\n",
      " 'ROW' 'Russia' 'Spain' 'UK' 'US' 'WORLD']\n"
     ]
    }
   ],
   "source": [
    "areas = data.country.unique()\n",
    "print(areas)"
   ]
  },
  {
   "cell_type": "markdown",
   "metadata": {},
   "source": [
    "Find distinct sectors"
   ]
  },
  {
   "cell_type": "code",
   "execution_count": 23,
   "metadata": {},
   "outputs": [
    {
     "name": "stdout",
     "output_type": "stream",
     "text": [
      "['Power' 'Industry' 'Ground Transport' 'Residential' 'Domestic Aviation'\n",
      " 'International Aviation']\n"
     ]
    }
   ],
   "source": [
    "print(data.sector.unique())\n"
   ]
  },
  {
   "cell_type": "markdown",
   "metadata": {},
   "source": [
    "Calculate the mean of Carbon Emission of Ground Transportaion per conuntry before and after March 1, 2020 (as the covid situaion becomes worse and worse)"
   ]
  },
  {
   "cell_type": "code",
   "execution_count": 11,
   "metadata": {},
   "outputs": [],
   "source": [
    "# convert date to Date object\n",
    "data['date'] = pd.to_datetime(data['date'])"
   ]
  },
  {
   "cell_type": "code",
   "execution_count": 63,
   "metadata": {},
   "outputs": [
    {
     "name": "stdout",
     "output_type": "stream",
     "text": [
      "Brazil: -0.0426, -0.0353\n",
      "China: -0.0208, -0.0423\n",
      "EU27 & UK: -0.0642, -0.0652\n",
      "France: -0.0124, -0.0073\n",
      "Germany: -0.0025, 0.0046\n",
      "India: -0.1002, -0.0306\n",
      "Italy: -0.0123, -0.0108\n",
      "Japan: -0.0211, -0.0111\n",
      "ROW: -0.5393, -0.3417\n",
      "Russia: -0.0126, -0.0005\n",
      "Spain: -0.0096, -0.0197\n",
      "UK: -0.0127, -0.0149\n",
      "US: -0.2568, -0.1999\n",
      "WORLD: -1.0576, -0.66\n"
     ]
    }
   ],
   "source": [
    "for area in areas:\n",
    "    values_before = data[(data['country'] == area) & (\n",
    "        data['date'] < \"2020-03-01\") & (data['sector'] == \"Ground Transport\")]['value']\n",
    "    values_after = data[(data['country'] == area) & (\n",
    "        data['date'] >= \"2020-03-01\") & (data['sector'] == \"Ground Transport\")]['value']\n",
    "    print('{}: {}, {}'.format(area,\n",
    "                                  round(values_after.mean() -\n",
    "                                        values_before.mean(), 4),\n",
    "                                  round(values_after.median() -\n",
    "                                        values_before.median(), 4)))\n"
   ]
  },
  {
   "cell_type": "code",
   "execution_count": 64,
   "metadata": {},
   "outputs": [
    {
     "name": "stdout",
     "output_type": "stream",
     "text": [
      "Brazil: -0.0003, 0.0\n",
      "China: -0.1756, -0.1491\n",
      "EU27 & UK: -0.081, -0.2791\n",
      "France: -0.0131, -0.023\n",
      "Germany: -0.0157, -0.058\n",
      "India: -0.0967, -0.019\n",
      "Italy: -0.0152, -0.0348\n",
      "Japan: -0.0313, -0.0423\n",
      "ROW: -0.2336, -0.305\n",
      "Russia: -0.0297, -0.0519\n",
      "Spain: -0.0051, -0.0115\n",
      "UK: -0.0119, -0.0262\n",
      "US: -0.2867, -0.315\n",
      "WORLD: -0.9349, -1.1178\n"
     ]
    }
   ],
   "source": [
    "# How about residential?\n",
    "for area in areas:\n",
    "    values_before = data[(data['country'] == area) & (\n",
    "        data['date'] < \"2020-03-01\") & (data['sector'] == \"Residential\")]['value']\n",
    "    values_after = data[(data['country'] == area) & (\n",
    "        data['date'] >= \"2020-03-01\") & (data['sector'] == \"Residential\")]['value']\n",
    "    print('{}: {}, {}'.format(area, \n",
    "        round(values_after.mean() - values_before.mean(), 4),\n",
    "        round(values_after.median() - values_before.median(), 4)))\n"
   ]
  },
  {
   "cell_type": "code",
   "execution_count": 65,
   "metadata": {},
   "outputs": [
    {
     "name": "stdout",
     "output_type": "stream",
     "text": [
      "Brazil: -0.0006, 0.0\n",
      "China: 0.3008, -0.0906\n",
      "EU27 & UK: -0.12, -0.1375\n",
      "France: -0.0132, -0.0028\n",
      "Germany: -0.0197, -0.0269\n",
      "India: -0.0581, -0.2153\n",
      "Italy: -0.0126, -0.0129\n",
      "Japan: -0.0363, -0.0438\n",
      "ROW: -0.4574, -0.6084\n",
      "Russia: -0.0115, -0.0408\n",
      "Spain: -0.0156, -0.0196\n",
      "UK: -0.0188, -0.0142\n",
      "US: -0.1771, -0.1543\n",
      "WORLD: -0.5604, -1.4971\n"
     ]
    }
   ],
   "source": [
    "# How about all sectors?\n",
    "for area in areas:\n",
    "    values_before = data[(data['country'] == area) & (\n",
    "        data['date'] < \"2020-03-01\")]['value']\n",
    "    values_after = data[(data['country'] == area) & (\n",
    "        data['date'] >= \"2020-03-01\")]['value']\n",
    "    print('{}: {}, {}'.format(area, \n",
    "        round(values_after.mean() - values_before.mean(), 4),\n",
    "        round(values_after.median() - values_before.median(), 4)))\n"
   ]
  }
 ],
 "metadata": {
  "interpreter": {
   "hash": "31f2aee4e71d21fbe5cf8b01ff0e069b9275f58929596ceb00d14d90e3e16cd6"
  },
  "kernelspec": {
   "display_name": "Python 3.8.9 64-bit",
   "language": "python",
   "name": "python3"
  },
  "language_info": {
   "codemirror_mode": {
    "name": "ipython",
    "version": 3
   },
   "file_extension": ".py",
   "mimetype": "text/x-python",
   "name": "python",
   "nbconvert_exporter": "python",
   "pygments_lexer": "ipython3",
   "version": "3.9.9"
  },
  "orig_nbformat": 4
 },
 "nbformat": 4,
 "nbformat_minor": 2
}
